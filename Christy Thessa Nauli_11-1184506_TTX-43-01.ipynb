{
  "nbformat": 4,
  "nbformat_minor": 0,
  "metadata": {
    "colab": {
      "name": "Salinan dari Untitled13.ipynb",
      "provenance": [],
      "collapsed_sections": [],
      "include_colab_link": true
    },
    "kernelspec": {
      "name": "python3",
      "display_name": "Python 3"
    }
  },
  "cells": [
    {
      "cell_type": "markdown",
      "metadata": {
        "id": "view-in-github",
        "colab_type": "text"
      },
      "source": [
        "<a href=\"https://colab.research.google.com/github/christythessa/pemrograman-python/blob/main/Christy%20Thessa%20Nauli_11-1184506_TTX-43-01.ipynb\" target=\"_parent\"><img src=\"https://colab.research.google.com/assets/colab-badge.svg\" alt=\"Open In Colab\"/></a>"
      ]
    },
    {
      "cell_type": "markdown",
      "metadata": {
        "id": "ojN4QUILau96"
      },
      "source": [
        "TUGAS 2 PYTHON ADA DI SY"
      ]
    },
    {
      "cell_type": "code",
      "metadata": {
        "id": "8i_CpIElGdmu"
      },
      "source": [
        "import numpy as np\r\n",
        "import matplotlib.pyplot as plt"
      ],
      "execution_count": 1,
      "outputs": []
    },
    {
      "cell_type": "code",
      "metadata": {
        "colab": {
          "base_uri": "https://localhost:8080/"
        },
        "id": "n0YuH2C-GxyT",
        "outputId": "d785d0c2-ece8-4581-93c4-bb1c416953b0"
      },
      "source": [
        "np.zeros(4)"
      ],
      "execution_count": 2,
      "outputs": [
        {
          "output_type": "execute_result",
          "data": {
            "text/plain": [
              "array([0., 0., 0., 0.])"
            ]
          },
          "metadata": {
            "tags": []
          },
          "execution_count": 2
        }
      ]
    },
    {
      "cell_type": "code",
      "metadata": {
        "colab": {
          "base_uri": "https://localhost:8080/"
        },
        "id": "rro5kUCTHSur",
        "outputId": "3639b052-9333-463f-aa2e-7d99f9a261a8"
      },
      "source": [
        "np.ones(3)"
      ],
      "execution_count": 3,
      "outputs": [
        {
          "output_type": "execute_result",
          "data": {
            "text/plain": [
              "array([1., 1., 1.])"
            ]
          },
          "metadata": {
            "tags": []
          },
          "execution_count": 3
        }
      ]
    },
    {
      "cell_type": "code",
      "metadata": {
        "colab": {
          "base_uri": "https://localhost:8080/"
        },
        "id": "wULh3qz6HZ8G",
        "outputId": "bb645a5c-edf9-42eb-e3a3-9711d10232f6"
      },
      "source": [
        "np.zeros((3,4))"
      ],
      "execution_count": 4,
      "outputs": [
        {
          "output_type": "execute_result",
          "data": {
            "text/plain": [
              "array([[0., 0., 0., 0.],\n",
              "       [0., 0., 0., 0.],\n",
              "       [0., 0., 0., 0.]])"
            ]
          },
          "metadata": {
            "tags": []
          },
          "execution_count": 4
        }
      ]
    },
    {
      "cell_type": "code",
      "metadata": {
        "colab": {
          "base_uri": "https://localhost:8080/"
        },
        "id": "Z5JIaVutHml3",
        "outputId": "8d7f3985-6847-4f80-f640-cfbdc5185561"
      },
      "source": [
        "np.ones((5,2))"
      ],
      "execution_count": 5,
      "outputs": [
        {
          "output_type": "execute_result",
          "data": {
            "text/plain": [
              "array([[1., 1.],\n",
              "       [1., 1.],\n",
              "       [1., 1.],\n",
              "       [1., 1.],\n",
              "       [1., 1.]])"
            ]
          },
          "metadata": {
            "tags": []
          },
          "execution_count": 5
        }
      ]
    },
    {
      "cell_type": "code",
      "metadata": {
        "colab": {
          "base_uri": "https://localhost:8080/"
        },
        "id": "xLTMiWKTHrYS",
        "outputId": "415799dc-1be3-4e77-f22d-46bb6e42279a"
      },
      "source": [
        "np.arange(10)"
      ],
      "execution_count": 6,
      "outputs": [
        {
          "output_type": "execute_result",
          "data": {
            "text/plain": [
              "array([0, 1, 2, 3, 4, 5, 6, 7, 8, 9])"
            ]
          },
          "metadata": {
            "tags": []
          },
          "execution_count": 6
        }
      ]
    },
    {
      "cell_type": "code",
      "metadata": {
        "colab": {
          "base_uri": "https://localhost:8080/"
        },
        "id": "_xDPabG7HzGt",
        "outputId": "9936ed0d-53dc-4bfe-87c1-eb69c11645c8"
      },
      "source": [
        "np.arange(2,10)"
      ],
      "execution_count": 7,
      "outputs": [
        {
          "output_type": "execute_result",
          "data": {
            "text/plain": [
              "array([2, 3, 4, 5, 6, 7, 8, 9])"
            ]
          },
          "metadata": {
            "tags": []
          },
          "execution_count": 7
        }
      ]
    },
    {
      "cell_type": "code",
      "metadata": {
        "colab": {
          "base_uri": "https://localhost:8080/"
        },
        "id": "WAlJRpl6H1v5",
        "outputId": "7eed385e-c564-4a6c-9fe2-7cd08834bbb3"
      },
      "source": [
        "np.arange(3,47,4)"
      ],
      "execution_count": 8,
      "outputs": [
        {
          "output_type": "execute_result",
          "data": {
            "text/plain": [
              "array([ 3,  7, 11, 15, 19, 23, 27, 31, 35, 39, 43])"
            ]
          },
          "metadata": {
            "tags": []
          },
          "execution_count": 8
        }
      ]
    },
    {
      "cell_type": "code",
      "metadata": {
        "colab": {
          "base_uri": "https://localhost:8080/"
        },
        "id": "GTSOCm6WIOf3",
        "outputId": "dee8f963-24f2-46b6-a08f-f12b09b3b3eb"
      },
      "source": [
        "np.arange(4,5,0.2)"
      ],
      "execution_count": 9,
      "outputs": [
        {
          "output_type": "execute_result",
          "data": {
            "text/plain": [
              "array([4. , 4.2, 4.4, 4.6, 4.8])"
            ]
          },
          "metadata": {
            "tags": []
          },
          "execution_count": 9
        }
      ]
    },
    {
      "cell_type": "code",
      "metadata": {
        "colab": {
          "base_uri": "https://localhost:8080/"
        },
        "id": "UDDY28ivIhzI",
        "outputId": "b7b85198-2726-422f-d1b5-b45e5154c8e0"
      },
      "source": [
        "np.arange(4,5,0.1)"
      ],
      "execution_count": 10,
      "outputs": [
        {
          "output_type": "execute_result",
          "data": {
            "text/plain": [
              "array([4. , 4.1, 4.2, 4.3, 4.4, 4.5, 4.6, 4.7, 4.8, 4.9])"
            ]
          },
          "metadata": {
            "tags": []
          },
          "execution_count": 10
        }
      ]
    },
    {
      "cell_type": "code",
      "metadata": {
        "colab": {
          "base_uri": "https://localhost:8080/"
        },
        "id": "UujzGfbxIkSt",
        "outputId": "c7cb8701-46f9-4898-f551-1583cf3279be"
      },
      "source": [
        "np.arange(20,5,-5)"
      ],
      "execution_count": 11,
      "outputs": [
        {
          "output_type": "execute_result",
          "data": {
            "text/plain": [
              "array([20, 15, 10])"
            ]
          },
          "metadata": {
            "tags": []
          },
          "execution_count": 11
        }
      ]
    },
    {
      "cell_type": "code",
      "metadata": {
        "colab": {
          "base_uri": "https://localhost:8080/"
        },
        "id": "rnvbbC-bIsbb",
        "outputId": "ffebcc0a-9537-4781-f936-40d60d014073"
      },
      "source": [
        "np.linspace(2,10,4)"
      ],
      "execution_count": 12,
      "outputs": [
        {
          "output_type": "execute_result",
          "data": {
            "text/plain": [
              "array([ 2.        ,  4.66666667,  7.33333333, 10.        ])"
            ]
          },
          "metadata": {
            "tags": []
          },
          "execution_count": 12
        }
      ]
    },
    {
      "cell_type": "code",
      "metadata": {
        "colab": {
          "base_uri": "https://localhost:8080/"
        },
        "id": "U-gmWOhPJdgq",
        "outputId": "2af3f037-b1b3-4a67-c6cd-c64028096875"
      },
      "source": [
        "np.linspace(2,10,4)"
      ],
      "execution_count": 13,
      "outputs": [
        {
          "output_type": "execute_result",
          "data": {
            "text/plain": [
              "array([ 2.        ,  4.66666667,  7.33333333, 10.        ])"
            ]
          },
          "metadata": {
            "tags": []
          },
          "execution_count": 13
        }
      ]
    },
    {
      "cell_type": "code",
      "metadata": {
        "colab": {
          "base_uri": "https://localhost:8080/"
        },
        "id": "92woC3eTJu1N",
        "outputId": "e2a8532c-7b7e-4a4c-eea2-55ac4f1bbdc1"
      },
      "source": [
        "np.linspace(2,20,4)"
      ],
      "execution_count": 14,
      "outputs": [
        {
          "output_type": "execute_result",
          "data": {
            "text/plain": [
              "array([ 2.,  8., 14., 20.])"
            ]
          },
          "metadata": {
            "tags": []
          },
          "execution_count": 14
        }
      ]
    },
    {
      "cell_type": "code",
      "metadata": {
        "id": "Th2NqNOjJz5N"
      },
      "source": [
        "e=np.arange(0,20,2)\r\n"
      ],
      "execution_count": 15,
      "outputs": []
    },
    {
      "cell_type": "code",
      "metadata": {
        "colab": {
          "base_uri": "https://localhost:8080/"
        },
        "id": "W5N-H7EMKFfo",
        "outputId": "754e095c-f0e7-441c-ec0e-7204f41233c5"
      },
      "source": [
        "len(e)"
      ],
      "execution_count": 16,
      "outputs": [
        {
          "output_type": "execute_result",
          "data": {
            "text/plain": [
              "10"
            ]
          },
          "metadata": {
            "tags": []
          },
          "execution_count": 16
        }
      ]
    },
    {
      "cell_type": "code",
      "metadata": {
        "colab": {
          "base_uri": "https://localhost:8080/"
        },
        "id": "70pld10RKGxo",
        "outputId": "fe224e49-6b8b-4455-bc93-108d362de427"
      },
      "source": [
        "e.reshape(5,2)"
      ],
      "execution_count": 17,
      "outputs": [
        {
          "output_type": "execute_result",
          "data": {
            "text/plain": [
              "array([[ 0,  2],\n",
              "       [ 4,  6],\n",
              "       [ 8, 10],\n",
              "       [12, 14],\n",
              "       [16, 18]])"
            ]
          },
          "metadata": {
            "tags": []
          },
          "execution_count": 17
        }
      ]
    },
    {
      "cell_type": "code",
      "metadata": {
        "colab": {
          "base_uri": "https://localhost:8080/"
        },
        "id": "L71TjshkKKS7",
        "outputId": "163a1a80-0187-429b-fe60-cdd5545d73cf"
      },
      "source": [
        "e.reshape(2,5)"
      ],
      "execution_count": 18,
      "outputs": [
        {
          "output_type": "execute_result",
          "data": {
            "text/plain": [
              "array([[ 0,  2,  4,  6,  8],\n",
              "       [10, 12, 14, 16, 18]])"
            ]
          },
          "metadata": {
            "tags": []
          },
          "execution_count": 18
        }
      ]
    },
    {
      "cell_type": "code",
      "metadata": {
        "colab": {
          "base_uri": "https://localhost:8080/"
        },
        "id": "r4U5pf-IKmB-",
        "outputId": "64147e22-8b63-415e-bec6-ca2b9777054b"
      },
      "source": [
        "print(e)"
      ],
      "execution_count": 19,
      "outputs": [
        {
          "output_type": "stream",
          "text": [
            "[ 0  2  4  6  8 10 12 14 16 18]\n"
          ],
          "name": "stdout"
        }
      ]
    },
    {
      "cell_type": "code",
      "metadata": {
        "colab": {
          "base_uri": "https://localhost:8080/"
        },
        "id": "ysxNHgImKopN",
        "outputId": "59d5678c-edf3-4bc6-9c3e-d0240755eef0"
      },
      "source": [
        "e[-2:]"
      ],
      "execution_count": 20,
      "outputs": [
        {
          "output_type": "execute_result",
          "data": {
            "text/plain": [
              "array([16, 18])"
            ]
          },
          "metadata": {
            "tags": []
          },
          "execution_count": 20
        }
      ]
    },
    {
      "cell_type": "code",
      "metadata": {
        "id": "ZdDCys1ZKxIa"
      },
      "source": [
        "f=e.reshape(5,2)"
      ],
      "execution_count": 21,
      "outputs": []
    },
    {
      "cell_type": "code",
      "metadata": {
        "colab": {
          "base_uri": "https://localhost:8080/"
        },
        "id": "2acHL79_Mh0c",
        "outputId": "b16f388a-da39-4ecf-bd53-da50437676d7"
      },
      "source": [
        "print(f)"
      ],
      "execution_count": 22,
      "outputs": [
        {
          "output_type": "stream",
          "text": [
            "[[ 0  2]\n",
            " [ 4  6]\n",
            " [ 8 10]\n",
            " [12 14]\n",
            " [16 18]]\n"
          ],
          "name": "stdout"
        }
      ]
    },
    {
      "cell_type": "code",
      "metadata": {
        "colab": {
          "base_uri": "https://localhost:8080/"
        },
        "id": "mf_aIWTtMiuv",
        "outputId": "f562db70-a6d3-42ae-ad99-1b55038e6ad7"
      },
      "source": [
        "f[:]"
      ],
      "execution_count": 23,
      "outputs": [
        {
          "output_type": "execute_result",
          "data": {
            "text/plain": [
              "array([[ 0,  2],\n",
              "       [ 4,  6],\n",
              "       [ 8, 10],\n",
              "       [12, 14],\n",
              "       [16, 18]])"
            ]
          },
          "metadata": {
            "tags": []
          },
          "execution_count": 23
        }
      ]
    },
    {
      "cell_type": "code",
      "metadata": {
        "colab": {
          "base_uri": "https://localhost:8080/"
        },
        "id": "uZcA-qDYMk_t",
        "outputId": "c49c6728-6507-4f4d-e3c5-e8518131fcca"
      },
      "source": [
        "np.random.randint(1,20,10)"
      ],
      "execution_count": 24,
      "outputs": [
        {
          "output_type": "execute_result",
          "data": {
            "text/plain": [
              "array([ 8, 11, 16,  7, 16, 18, 13,  1, 12, 12])"
            ]
          },
          "metadata": {
            "tags": []
          },
          "execution_count": 24
        }
      ]
    },
    {
      "cell_type": "code",
      "metadata": {
        "colab": {
          "base_uri": "https://localhost:8080/"
        },
        "id": "NhnPD3hEM4GG",
        "outputId": "1b4fcefb-7e90-4371-aa64-7890a22727ee"
      },
      "source": [
        "np.random.randn(3)"
      ],
      "execution_count": 25,
      "outputs": [
        {
          "output_type": "execute_result",
          "data": {
            "text/plain": [
              "array([-1.5472746 , -0.19678186,  2.41393916])"
            ]
          },
          "metadata": {
            "tags": []
          },
          "execution_count": 25
        }
      ]
    },
    {
      "cell_type": "code",
      "metadata": {
        "id": "0c9BmbgnNfxl"
      },
      "source": [
        "x=np.linspace(1,10,21)\r\n",
        "y=x**2\r\n",
        "y2=x**3"
      ],
      "execution_count": 26,
      "outputs": []
    },
    {
      "cell_type": "code",
      "metadata": {
        "colab": {
          "base_uri": "https://localhost:8080/",
          "height": 295
        },
        "id": "erLd58eKNz9W",
        "outputId": "78434381-9d56-43b0-d16c-44ea9e214306"
      },
      "source": [
        "plt.figure()\r\n",
        "plt.plot(x,y,'r-x',label='Y1')\r\n",
        "plt.plot(x,y2,'k-o',label='Y2')\r\n",
        "plt.legend()\r\n",
        "plt.title('Contoh Kurva ')\r\n",
        "plt.xlabel('sumbu-X')\r\n",
        "plt.ylabel('sumbu-Y')\r\n",
        "plt.show()"
      ],
      "execution_count": 51,
      "outputs": [
        {
          "output_type": "display_data",
          "data": {
            "image/png": "[encoded data removed]",
            "text/plain": [
              "<Figure size 432x288 with 1 Axes>"
            ]
          },
          "metadata": {
            "tags": [],
            "needs_background": "light"
          }
        }
      ]
    },
    {
      "cell_type": "code",
      "metadata": {
        "id": "fKDaHZpzOFO7",
        "colab": {
          "base_uri": "https://localhost:8080/"
        },
        "outputId": "6edaced3-6492-4f4b-d15a-1fd91a9a4ec8"
      },
      "source": [
        "print (\"Christy Thessa Nauli 1101184506 \")\r\n",
        "def cos(frek,tipe,ht,hr,d):\r\n",
        "  #frek = frekuensi (MHz),#tipe = urban, suburban, open,#ht = tinggi tower (meter),#hr = tinggi user (meter),#d = jarak (meter)\r\n",
        "    if frek in range(150,1501):\r\n",
        "        Ca=69.55\r\n",
        "        Cb=26.16\r\n",
        "    elif frek in range(1501,2001):\r\n",
        "        Ca=46.3\r\n",
        "        Cb=33.9\r\n",
        "    \r\n",
        "    if tipe=='urban' :\r\n",
        "        Cm=0\r\n",
        "    elif tipe=='suburban' :\r\n",
        "        Cm= -2*((np.log10((frek/28)**2))-5.4)\r\n",
        "    elif tipe=='open' :\r\n",
        "        Cm= -4.78*(np.log10(frek))+18.33*(np.log10(frek))-40.94\r\n",
        "    else :\r\n",
        "        Cm='tipe salah'\r\n",
        "    \r\n",
        "    ahr = (1.1*np.log10(frek)-0.7)*hr-(1.56*np.log10(frek)-1.8)\r\n",
        "    Lp = Ca+(Cb*np.log10(frek))-(13.83*np.log(ht))-ahr+((44.9-6.55*np.log10(ht))*np.log10(d))-Cm\r\n",
        "    \r\n",
        "    return Lp"
      ],
      "execution_count": 52,
      "outputs": [
        {
          "output_type": "stream",
          "text": [
            "Christy Thessa Nauli 1101184506 \n"
          ],
          "name": "stdout"
        }
      ]
    },
    {
      "cell_type": "code",
      "metadata": {
        "colab": {
          "base_uri": "https://localhost:8080/"
        },
        "id": "-Ypp7ujOGuaX",
        "outputId": "58af31bd-842e-4792-88cc-8a0ec7dd0417"
      },
      "source": [
        "\r\n",
        "f=1800 #MHz\r\n",
        "loc='urban'\r\n",
        "tower=80 #m\r\n",
        "user=1.5 #m\r\n",
        "Dmin=200 #m\r\n",
        "Dmax=700 #m\r\n",
        "N=200 #titik\r\n",
        "D=np.random.randint(Dmin,Dmax,N)\r\n",
        "print(D)"
      ],
      "execution_count": 29,
      "outputs": [
        {
          "output_type": "stream",
          "text": [
            "[556 470 531 551 203 318 309 318 614 283 503 668 697 649 518 657 460 225\n",
            " 636 694 223 534 603 426 546 573 374 455 612 623 310 483 525 393 689 688\n",
            " 337 450 360 335 589 455 430 225 645 681 587 586 637 511 241 339 637 661\n",
            " 523 687 350 610 531 320 347 653 442 671 515 287 678 264 381 672 378 385\n",
            " 412 307 583 696 333 639 603 668 580 393 376 650 295 438 358 412 503 490\n",
            " 494 279 428 614 684 491 360 478 542 307 273 329 296 653 593 414 290 235\n",
            " 460 571 217 446 531 366 681 558 575 327 332 437 368 604 522 334 636 504\n",
            " 559 653 444 585 496 274 604 492 443 365 488 422 421 376 595 640 271 508\n",
            " 219 570 292 521 413 439 244 420 617 293 357 605 681 611 584 393 558 468\n",
            " 627 552 503 507 544 478 553 420 249 253 551 583 381 255 332 656 562 382\n",
            " 359 247 689 648 290 613 420 486 229 693 664 287 674 245 270 468 512 554\n",
            " 622 258]\n"
          ],
          "name": "stdout"
        }
      ]
    },
    {
      "cell_type": "code",
      "metadata": {
        "colab": {
          "base_uri": "https://localhost:8080/"
        },
        "id": "QaXA7QVcHKbi",
        "outputId": "23b82290-ae4d-4ea7-e72b-25ec1358c8d0"
      },
      "source": [
        "\r\n",
        "GrafikUrban=cos(f,loc,tower,user,D)\r\n",
        "print(GrafikUrban)"
      ],
      "execution_count": 30,
      "outputs": [
        {
          "output_type": "stream",
          "text": [
            "[184.04317869 181.67618932 183.3951234  183.91593088 169.85041658\n",
            " 176.17295956 175.76854219 176.17295956 185.44090863 174.53044108\n",
            " 182.63204584 186.62828331 187.22690949 186.22181849 183.04597095\n",
            " 186.39439323 181.37324781 171.29981187 185.9367954  187.1661492\n",
            " 171.17404105 183.4744827  185.18626141 180.29160587 183.78752308\n",
            " 184.46741986 178.45780947 181.21929832 185.39495023 185.64588579\n",
            " 175.81405511 182.06051765 183.2350508  179.15583628 187.06429599\n",
            " 187.04383667 176.99040572 181.06364771 177.92039464 176.90655882\n",
            " 184.85536142 181.21929832 180.42325391 171.29981187 186.13473173\n",
            " 186.89978332 184.807449   184.78343154 185.95892618 182.8543185\n",
            " 172.26748753 177.07375648 185.95892618 186.47989418 183.18128647\n",
            " 187.0233476  177.52357297 185.34884139 183.3951234  176.26127482\n",
            " 177.40231336 186.30837014 180.81097299 186.69140322 182.96415327\n",
            " 174.72814591 186.83759232 173.55147864 178.71901871 186.7123805\n",
            " 178.60766448 178.8661348  179.8209002  175.67707279 184.71113247\n",
            " 187.20668516 176.82220984 186.0030837  185.18626141 186.62828331\n",
            " 184.63846041 179.15583628 178.53293625 186.24350631 175.11542082\n",
            " 180.68291541 177.84191957 179.8209002  182.63204584 182.26320082\n",
            " 182.37772371 174.32992186 180.35758368 185.44090863 186.96170094\n",
            " 182.29191895 177.92039464 181.91393737 183.68394734 175.67707279\n",
            " 174.02368724 176.65198134 175.16309002 186.30837014 184.95070011\n",
            " 179.88911456 174.87462457 171.91235348 181.37324781 184.41816723\n",
            " 170.78984712 180.93787689 183.3951234  178.15323031 186.89978332\n",
            " 184.0937577  184.51650088 176.56608938 176.77984519 180.65071828\n",
            " 178.22999474 185.20960232 183.15432715 176.86444747 185.9367954\n",
            " 182.66002249 184.11897926 186.30837014 180.87456785 184.75937306\n",
            " 182.43463788 174.07519091 185.20960232 182.32057865 180.84280631\n",
            " 178.11469065 182.20558832 180.15871585 180.12529653 178.53293625\n",
            " 184.99812856 186.02511066 173.9201115  182.77137672 170.91907957\n",
            " 184.39347619 174.97143758 183.12731614 179.85504867 180.71503911\n",
            " 172.44175248 180.09179773 185.5095663  175.0195957  177.80251748\n",
            " 185.23290462 186.89978332 185.37191467 184.73527342 179.15583628\n",
            " 184.0937577  181.61611999 185.73603802 183.94147257 182.63204584\n",
            " 182.74362058 183.73583041 181.91393737 183.96696802 180.09179773\n",
            " 172.72748718 172.9519738  183.91593088 184.71113247 178.71901871\n",
            " 173.06288963 176.77984519 186.37293666 184.19437411 178.75594203\n",
            " 177.88121175 172.61388787 187.06429599 186.20009722 174.87462457\n",
            " 185.41794817 180.09179773 182.14773921 171.54803393 187.14583739\n",
            " 186.54368103 174.72814591 186.75424156 172.49936498 173.86803663\n",
            " 181.61611999 182.88185758 183.99241742 185.62325729 173.22764283]\n"
          ],
          "name": "stdout"
        }
      ]
    },
    {
      "cell_type": "code",
      "metadata": {
        "id": "C7IbqbcpIzEB"
      },
      "source": [
        "\r\n",
        "D_sorting=D[np.argsort(D)]\r\n",
        "Urban_sorting=GrafikUrban[np.argsort(D)]"
      ],
      "execution_count": 31,
      "outputs": []
    },
    {
      "cell_type": "code",
      "metadata": {
        "colab": {
          "base_uri": "https://localhost:8080/"
        },
        "id": "UG_ZpM5BI7se",
        "outputId": "851ee69f-0e60-48a0-e702-f15cb2435870"
      },
      "source": [
        "\r\n",
        "f=1800 #MHz\r\n",
        "loc='suburban'\r\n",
        "tower=80 #m\r\n",
        "user=1.5 #m\r\n",
        "Dmin=200 #m\r\n",
        "Dmax=700 #m\r\n",
        "N=200 #titik\r\n",
        "A=np.random.randint(Dmin,Dmax,N)\r\n",
        "print(A)"
      ],
      "execution_count": 32,
      "outputs": [
        {
          "output_type": "stream",
          "text": [
            "[403 263 408 407 560 311 634 633 244 441 511 258 426 544 316 627 565 201\n",
            " 304 622 215 240 205 609 290 362 623 655 392 673 293 347 244 366 689 333\n",
            " 668 344 355 477 320 471 499 567 694 602 382 387 616 519 347 690 311 319\n",
            " 539 350 688 416 306 624 549 364 260 655 266 428 462 338 428 340 439 341\n",
            " 381 673 484 201 625 353 410 658 669 379 485 462 448 268 627 244 471 316\n",
            " 493 288 561 376 513 535 340 572 218 427 577 344 644 452 492 472 388 366\n",
            " 470 315 671 371 639 205 275 595 239 504 461 595 331 624 670 224 539 307\n",
            " 554 219 545 605 421 312 343 572 544 692 652 412 357 311 604 596 281 579\n",
            " 403 283 283 689 291 456 374 525 511 543 460 270 478 548 678 465 216 524\n",
            " 501 634 652 538 386 310 623 293 271 587 616 678 528 442 242 240 475 388\n",
            " 455 284 646 295 493 246 240 659 286 247 513 534 537 577 528 396 239 535\n",
            " 495 255]\n"
          ],
          "name": "stdout"
        }
      ]
    },
    {
      "cell_type": "code",
      "metadata": {
        "colab": {
          "base_uri": "https://localhost:8080/"
        },
        "id": "Ytu95UoHJCCQ",
        "outputId": "ea318bc8-cdff-4d40-cf0f-e7f3f61b7f6a"
      },
      "source": [
        "\r\n",
        "Grafiksuburban=cos(f,loc,tower,user,A)\r\n",
        "print(Grafiksuburban)"
      ],
      "execution_count": 33,
      "outputs": [
        {
          "output_type": "stream",
          "text": [
            "[175.94223836 169.93047826 176.11593029 176.08136282 180.57661363\n",
            " 172.29187935 182.32488715 182.30265157 168.87421038 177.21152547\n",
            " 179.28677639 169.66010072 176.72406376 180.1682883  172.516545\n",
            " 182.16849591 180.70182546 166.14340564 171.97120318 182.05571519\n",
            " 167.09187596 168.6413747  166.42097595 181.75818814 171.30708246\n",
            " 174.43089283 182.07834369 182.78390525 175.55240565 183.16578447\n",
            " 171.4520536  173.83477126 168.87421038 174.5856882  183.49675389\n",
            " 173.25466774 183.0607412  173.71245873 174.155839   178.31689528\n",
            " 172.69373271 178.1385861  178.95203817 180.7516002  183.5986071\n",
            " 181.59533965 175.18839993 175.37157855 181.91917547 179.50559614\n",
            " 173.83477126 183.51718353 172.29187935 172.6496443  180.03822055\n",
            " 173.95603087 183.47629457 176.38945806 172.06357228 182.10093589\n",
            " 180.29716603 174.50850315 169.7688753  182.78390525 170.09024827\n",
            " 176.79004158 177.86681746 173.46460065 176.79004158 173.54770554\n",
            " 177.147497   173.58907484 175.15147661 183.16578447 178.52210945\n",
            " 166.14340564 182.12349192 174.07625553 176.18481179 182.84827507\n",
            " 183.08181262 175.07733835 178.55118322 177.86681746 177.43336056\n",
            " 170.19576365 182.16849591 168.87421038 178.1385861  172.516545\n",
            " 178.78163805 171.20959946 180.6017452  174.96539415 179.34180083\n",
            " 179.93329465 173.54770554 180.87527297 167.28706944 176.7570913\n",
            " 180.99786937 173.71245873 182.54533355 177.55857239 178.75303655\n",
            " 178.16846148 175.40793015 174.5856882  178.10864722 172.47189761\n",
            " 183.12386112 174.77682055 182.43554159 166.42097595 170.55896485\n",
            " 181.43058646 168.58255943 179.09248038 177.83629472 181.43058646\n",
            " 173.16981063 182.10093589 183.10285256 167.66952473 180.03822055\n",
            " 172.10953069 180.42487532 167.35153746 180.19415835 181.66536252\n",
            " 176.55775442 172.33710005 173.67145073 180.87527297 180.1682883\n",
            " 183.55795415 182.71923993 176.25335809 174.23497538 172.29187935\n",
            " 181.64206022 181.45424093 170.86299616 181.04661072 175.94223836\n",
            " 170.96289898 170.96289898 183.49675389 171.35557214 177.68268101\n",
            " 174.89026737 179.66750869 179.28677639 180.14237066 177.8057057\n",
            " 170.30049452 178.34639527 180.27148464 183.27005022 177.95799083\n",
            " 167.15724145 179.64065218 179.00838319 182.32488715 182.71923993\n",
            " 180.01206226 175.33513289 172.24651301 182.07834369 171.4520536\n",
            " 170.3525694  181.2399069  181.91917547 183.27005022 179.74777237\n",
            " 177.24343089 168.75827361 168.6413747  178.25770932 175.40793015\n",
            " 177.65175622 171.01258593 182.58901184 171.54787871 178.78163805\n",
            " 168.98920071 168.6413747  182.86966647 171.11143713 169.04634577\n",
            " 179.34180083 179.90694059 179.9858553  180.99786937 179.74777237\n",
            " 175.69541436 168.58255943 179.93329465 178.83866743 169.49534753]\n"
          ],
          "name": "stdout"
        }
      ]
    },
    {
      "cell_type": "code",
      "metadata": {
        "id": "ggcrgTQ1KDb_"
      },
      "source": [
        "\r\n",
        "A_sorting=A[np.argsort(A)]\r\n",
        "suburban_sorting=Grafiksuburban[np.argsort(A)]"
      ],
      "execution_count": 34,
      "outputs": []
    },
    {
      "cell_type": "code",
      "metadata": {
        "colab": {
          "base_uri": "https://localhost:8080/"
        },
        "id": "I8Raj1IoKKvW",
        "outputId": "6a98c17f-faf7-4865-e4ea-3b8d9ba4f554"
      },
      "source": [
        "\r\n",
        "f=1800 #MHz\r\n",
        "loc='open'\r\n",
        "tower=80 #m\r\n",
        "user=1.5 #m\r\n",
        "Dmin=200 #m\r\n",
        "Dmax=700 #m\r\n",
        "N=200 #titik\r\n",
        "B=np.random.randint(Dmin,Dmax,N)\r\n",
        "print(B)"
      ],
      "execution_count": 35,
      "outputs": [
        {
          "output_type": "stream",
          "text": [
            "[395 571 619 645 366 406 660 205 697 301 511 675 461 354 668 244 567 221\n",
            " 641 423 495 658 632 277 604 551 235 361 404 329 495 219 392 409 524 386\n",
            " 512 609 234 657 586 557 605 696 618 260 227 474 523 669 427 415 329 208\n",
            " 303 277 397 298 351 577 399 205 201 328 230 353 393 697 390 601 540 571\n",
            " 330 214 615 509 318 332 373 395 642 322 573 356 244 424 685 363 288 465\n",
            " 691 500 258 267 669 248 606 349 668 307 259 633 603 369 630 368 479 645\n",
            " 428 209 524 354 243 516 368 618 356 698 463 369 421 333 341 400 662 671\n",
            " 316 575 649 527 202 229 648 374 560 489 673 384 465 435 657 517 624 230\n",
            " 633 444 432 370 651 535 325 430 378 491 265 350 480 678 589 306 659 506\n",
            " 377 418 243 630 390 440 219 500 578 662 366 488 362 686 349 214 511 360\n",
            " 533 528 394 628 673 303 303 425 411 472 658 407 265 236 634 335 684 618\n",
            " 460 409]\n"
          ],
          "name": "stdout"
        }
      ]
    },
    {
      "cell_type": "code",
      "metadata": {
        "colab": {
          "base_uri": "https://localhost:8080/"
        },
        "id": "64iZtUvBKlRb",
        "outputId": "756574ca-1c6b-4c13-b9d7-1c1d1bb95cf6"
      },
      "source": [
        "\r\n",
        "Grafikopen=cos(f,loc,tower,user,B)\r\n",
        "print(Grafikopen)"
      ],
      "execution_count": 36,
      "outputs": [
        {
          "output_type": "stream",
          "text": [
            "[176.05839773 181.24922479 182.38621042 182.96578929 174.98428787\n",
            " 176.44530998 183.2896251  166.81957561 184.05796704 172.23010347\n",
            " 179.68537606 183.60618309 178.23489438 174.51470313 183.45934086\n",
            " 169.27281004 181.15019986 167.87819471 182.87816078 177.02311363\n",
            " 179.23726709 183.24687473 182.6789805  171.05963914 182.04065988\n",
            " 180.74698843 168.74341104 174.79052638 176.37574817 173.48303889\n",
            " 179.23726709 167.75013712 175.95100531 176.54901281 180.03925184\n",
            " 175.73373256 179.71291514 182.1567878  168.68334171 183.22545079\n",
            " 181.6144891  180.89954845 182.06396218 184.03774272 182.36343558\n",
            " 170.16747496 168.25552721 178.62662249 180.01234402 183.48041228\n",
            " 177.15569096 176.75415581 173.48303889 167.02422189 172.32339016\n",
            " 171.05963914 176.12954049 172.08900476 174.39481953 181.39646903\n",
            " 176.20032576 166.81957561 166.5420053  173.44015838 168.44046952\n",
            " 174.47485519 175.98689383 184.05796704 175.87895279 181.97052079\n",
            " 180.46293002 181.24922479 173.52578927 167.4248054  182.29488928\n",
            " 179.63013584 173.00401711 173.61090274 175.25115285 176.05839773\n",
            " 182.90011907 173.18009738 181.29847742 174.59406243 169.27281004\n",
            " 177.05637512 183.81333738 174.8683511  171.60819912 178.3565905\n",
            " 183.93618325 179.37883851 170.05870038 170.54170442 183.48041228\n",
            " 169.5018596  182.087226   174.31432653 183.45934086 172.50813035\n",
            " 170.11319266 182.70125123 182.01731897 175.0992782  182.63433311\n",
            " 175.06105229 178.77443326 182.96578929 177.18864124 167.09178191\n",
            " 180.03925184 174.51470313 169.21496093 179.82253622 175.06105229\n",
            " 182.36343558 174.59406243 184.07816237 178.29587386 175.0992782\n",
            " 176.95635408 173.6532674  173.9876745  176.23558544 183.33224613\n",
            " 183.52246078 172.91514466 181.34755843 183.05287604 180.11966826\n",
            " 166.61191233 168.37909149 183.03115478 175.28886703 180.97521329\n",
            " 179.06548158 183.56438414 175.66055713 178.3565905  177.41715995\n",
            " 183.22545079 179.84980871 182.49953555 168.44046952 182.70125123\n",
            " 177.70562541 177.31967695 175.13740065 183.09621835 180.33189431\n",
            " 173.31072803 177.25431146 175.43872203 179.12297651 170.43579236\n",
            " 174.35463053 178.8038102  183.66864988 181.68641898 172.46217195\n",
            " 183.26826614 179.5468672  175.40140748 176.85561775 169.21496093\n",
            " 182.63433311 175.87895279 177.57814728 167.75013712 179.37883851\n",
            " 181.42086079 183.33224613 174.98428787 179.03664588 174.82949249\n",
            " 183.83388623 174.31432653 167.4248054  179.68537606 174.75145219\n",
            " 180.2791368  180.14637203 176.02269115 182.58954377 183.56438414\n",
            " 172.32339016 172.32339016 177.08955827 176.6177263  178.56706114\n",
            " 183.24687473 176.47996248 170.43579236 168.8032253  182.72348681\n",
            " 173.73761638 183.7927585  182.36343558 178.20430536 176.54901281]\n"
          ],
          "name": "stdout"
        }
      ]
    },
    {
      "cell_type": "code",
      "metadata": {
        "id": "um6RQXkNMEDH"
      },
      "source": [
        "\r\n",
        "B_sorting=B[np.argsort(B)]\r\n",
        "open_sorting=Grafikopen[np.argsort(B)]"
      ],
      "execution_count": 37,
      "outputs": []
    },
    {
      "cell_type": "code",
      "metadata": {
        "colab": {
          "base_uri": "https://localhost:8080/",
          "height": 295
        },
        "id": "nunlJ9O1MEGl",
        "outputId": "2964ba65-4aee-44d6-9612-9c6be737f8f1"
      },
      "source": [
        "\r\n",
        "plt.figure()\r\n",
        "plt.plot(D_sorting,Urban_sorting,'g', label='Urban')\r\n",
        "plt.plot(B_sorting,open_sorting,'y', label='Open')\r\n",
        "plt.plot(A_sorting,suburban_sorting,'k', label='Suburban')\r\n",
        "plt.legend()\r\n",
        "plt.title('FREKUENSI 1800 MHZ (contoh gambar)')\r\n",
        "plt.xlabel('Jarak (m)')\r\n",
        "plt.ylabel('Path Loss (dB)')\r\n",
        "plt.show()"
      ],
      "execution_count": 53,
      "outputs": [
        {
          "output_type": "display_data",
          "data": {
            "image/png": "[encoded data removed]",
            "text/plain": [
              "<Figure size 432x288 with 1 Axes>"
            ]
          },
          "metadata": {
            "tags": [],
            "needs_background": "light"
          }
        }
      ]
    },
    {
      "cell_type": "code",
      "metadata": {
        "colab": {
          "base_uri": "https://localhost:8080/"
        },
        "id": "7fIk7WkbMPNU",
        "outputId": "d43ff3ba-c9d5-409c-d095-617b9f782889"
      },
      "source": [
        "print (\"CHRISTY THESSA NAULI 1101184506\")\r\n",
        "f=1800 #MHz\r\n",
        "loc='urban'\r\n",
        "tower=80 #m\r\n",
        "user=1.5 #m\r\n",
        "Dmin=200 #m\r\n",
        "Dmax=700 #m\r\n",
        "N=200 #titik\r\n",
        "P=np.random.randint(Dmin,Dmax,N)\r\n",
        "print(P)"
      ],
      "execution_count": 54,
      "outputs": [
        {
          "output_type": "stream",
          "text": [
            "CHRISTY THESSA NAULI 1101184506\n",
            "[305 393 669 212 389 692 609 305 342 479 601 632 357 322 234 279 358 412\n",
            " 277 628 455 434 339 430 487 621 512 610 214 626 427 203 573 280 503 626\n",
            " 548 600 549 589 659 244 483 368 436 668 297 356 651 307 515 249 535 562\n",
            " 545 340 581 431 679 241 575 676 289 405 686 317 339 605 622 202 424 558\n",
            " 627 252 528 546 228 283 629 665 529 675 323 560 520 390 266 306 388 583\n",
            " 607 699 343 472 534 299 477 406 265 505 614 593 693 497 640 523 287 221\n",
            " 449 512 317 333 574 616 661 399 335 526 606 425 505 384 246 561 442 448\n",
            " 501 384 360 505 262 591 590 269 582 355 456 592 645 241 670 576 297 240\n",
            " 281 242 403 676 333 279 531 344 661 309 214 269 493 256 220 480 548 633\n",
            " 621 629 299 339 360 483 239 366 512 308 679 598 424 696 283 536 525 350\n",
            " 641 529 653 258 377 684 607 527 655 259 264 449 503 628 535 421 480 565\n",
            " 658 286]\n"
          ],
          "name": "stdout"
        }
      ]
    },
    {
      "cell_type": "code",
      "metadata": {
        "colab": {
          "base_uri": "https://localhost:8080/"
        },
        "id": "vWXqDVoYQSUB",
        "outputId": "3782c4ca-84af-41b9-f6ce-74c865ed4c96"
      },
      "source": [
        "print (\"CHRISTY THESSA NAULI 1101184506\")\r\n",
        "GrafikUrban1=cos(f,loc,tower,user,P)\r\n",
        "print(GrafikUrban1)"
      ],
      "execution_count": 55,
      "outputs": [
        {
          "output_type": "stream",
          "text": [
            "CHRISTY THESSA NAULI 1101184506\n",
            "[175.58500555 179.15583628 186.64935472 170.46148173 179.01173029\n",
            " 187.12549625 185.32573025 175.58500555 177.19786511 181.94337571\n",
            " 185.13946324 185.84792294 177.80251748 176.34903982 171.85228415\n",
            " 174.32992186 177.84191957 179.8209002  174.22858158 185.75848621\n",
            " 181.21929832 180.55368296 177.07375648 180.42325391 182.17669346\n",
            " 185.60059238 182.88185758 185.34884139 170.59374784 185.713554\n",
            " 180.3246334  169.85041658 184.46741986 174.3803199  182.63204584\n",
            " 185.713554   183.83902675 185.11600572 183.86470814 184.85536142\n",
            " 186.43720858 172.44175248 182.06051765 178.22999474 180.61844739\n",
            " 186.62828331 175.21059846 177.76300487 186.26516079 175.67707279\n",
            " 182.96415327 172.72748718 183.50083675 184.19437411 183.76170046\n",
            " 177.11524764 184.66272611 180.45597456 186.85835318 172.26748753\n",
            " 184.51650088 186.79597859 174.82596739 179.57951445 187.00282867\n",
            " 176.12859342 177.07375648 185.23290462 185.62325729 169.78085477\n",
            " 180.22531757 184.0937577  185.73603802 172.89618665 183.31531448\n",
            " 183.78752308 171.48638728 174.53044108 185.78089869 186.56487928\n",
            " 183.34196773 186.77512553 176.39271811 184.14415574 183.10025324\n",
            " 179.04789523 173.65779037 175.63111439 178.97547226 184.71113247\n",
            " 185.2793939  187.26727123 177.23899284 181.73600358 183.4744827\n",
            " 175.30513732 181.88443739 179.61425242 173.6047348  182.68794368\n",
            " 185.44090863 184.95070011 187.14583739 182.46300896 186.02511066\n",
            " 183.18128647 174.72814591 171.04713715 181.03231012 182.88185758\n",
            " 176.12859342 176.82220984 184.49198175 185.48671757 186.47989418\n",
            " 179.3692682  176.90655882 183.26185621 185.25616844 180.25850071\n",
            " 182.68794368 178.82949958 172.55674281 184.1692873  180.81097299\n",
            " 181.00090267 182.5759253  178.82949958 177.92039464 182.68794368\n",
            " 173.44435845 184.90311142 184.87925665 173.81576852 184.68695008\n",
            " 177.72338111 181.25022312 184.92692586 186.13473173 172.26748753\n",
            " 186.67039466 184.5409774  175.21059846 172.20891681 174.43053827\n",
            " 172.32581571 179.50978046 186.79597859 176.82220984 174.32992186\n",
            " 183.3951234  177.28000084 186.47989418 175.76854219 170.59374784\n",
            " 173.81576852 182.34918016 173.11802175 170.98325388 181.97275265\n",
            " 183.83902675 185.87019368 185.60059238 185.78089869 175.30513732\n",
            " 177.07375648 177.92039464 182.06051765 172.15010153 178.15323031\n",
            " 182.88185758 175.72288173 186.85835318 185.06897316 180.22531757\n",
            " 187.20668516 174.53044108 183.52714159 183.2350508  177.52357297\n",
            " 186.04710322 183.34196773 186.30837014 173.22764283 178.57034992\n",
            " 186.96170094 185.2793939  183.2886107  186.35144736 173.28213511\n",
            " 173.55147864 181.03231012 182.63204584 185.75848621 183.50083675\n",
            " 180.12529653 181.97275265 184.26936756 186.41581717 174.67897923]\n"
          ],
          "name": "stdout"
        }
      ]
    },
    {
      "cell_type": "code",
      "metadata": {
        "id": "RYcjUqpuQ1F-"
      },
      "source": [
        "\r\n",
        "P_sorting=P[np.argsort(P)]\r\n",
        "Urban_sorting1=GrafikUrban1[np.argsort(P)]"
      ],
      "execution_count": 41,
      "outputs": []
    },
    {
      "cell_type": "code",
      "metadata": {
        "colab": {
          "base_uri": "https://localhost:8080/"
        },
        "id": "eiAdiCpuQmq8",
        "outputId": "40225afe-3e98-4ccc-e761-32d4e4ac2051"
      },
      "source": [
        "\r\n",
        "f=900 #MHz\r\n",
        "loc='urban'\r\n",
        "tower=80 #m\r\n",
        "user=1.5 #m\r\n",
        "Dmin=200 #m\r\n",
        "Dmax=700 #m\r\n",
        "N=200 #titik\r\n",
        "K=np.random.randint(Dmin,Dmax,N)\r\n",
        "print(K)"
      ],
      "execution_count": 42,
      "outputs": [
        {
          "output_type": "stream",
          "text": [
            "[672 341 626 281 286 436 661 534 328 270 360 639 667 686 276 650 487 329\n",
            " 462 434 697 552 272 504 533 622 479 409 647 623 285 278 237 654 494 483\n",
            " 239 413 596 636 417 359 249 384 451 466 398 339 605 384 523 327 268 674\n",
            " 666 489 373 359 403 551 242 537 507 414 433 394 401 498 357 525 556 517\n",
            " 281 670 590 611 578 360 648 585 536 373 547 306 411 566 240 304 456 532\n",
            " 466 624 549 594 269 314 552 630 695 689 266 540 288 460 465 506 234 209\n",
            " 373 394 228 311 381 430 250 375 508 255 257 247 287 597 681 486 386 620\n",
            " 439 355 636 338 676 645 319 401 521 500 412 341 491 399 286 483 357 601\n",
            " 635 384 674 216 512 529 203 409 507 248 456 657 461 254 306 448 241 644\n",
            " 690 523 614 213 397 610 256 222 397 464 266 406 631 220 202 464 389 223\n",
            " 331 555 450 540 422 650 213 521 366 671 676 463 694 637 307 541 614 292\n",
            " 302 626]\n"
          ],
          "name": "stdout"
        }
      ]
    },
    {
      "cell_type": "code",
      "metadata": {
        "colab": {
          "base_uri": "https://localhost:8080/"
        },
        "id": "8Zcm8_JzRPxH",
        "outputId": "b94983b1-55db-49ce-ecaa-f2395636a73d"
      },
      "source": [
        "\r\n",
        "GrafikUrban2=cos(f,loc,tower,user,K)\r\n",
        "print(GrafikUrban2)"
      ],
      "execution_count": 43,
      "outputs": [
        {
          "output_type": "stream",
          "text": [
            "[176.91871932 167.36295577 175.91989282 164.63687709 164.88531806\n",
            " 170.82478621 176.686233   173.68082152 166.81543965 164.07437545\n",
            " 168.12673346 176.20942252 176.81351915 177.2091675  164.38397555\n",
            " 176.44984513 172.38303229 166.85832016 171.64069839 170.76002179\n",
            " 177.43324831 174.14781139 164.17833339 172.86636131 173.65441807\n",
            " 175.82959612 172.14971453 169.92429407 176.38468123 175.85222462\n",
            " 164.83597917 164.48568168 162.23806792 176.53626404 172.58406253\n",
            " 172.26685647 162.35644036 170.06138749 175.22812186 176.14313422\n",
            " 170.19715951 168.08755058 162.933826   169.0358384  171.30125455\n",
            " 171.76213222 169.54025886 167.28009531 175.43924345 169.0358384\n",
            " 173.38762529 166.7724282  163.96964458 176.96058038 176.79238451\n",
            " 172.44076285 168.62643412 168.08755058 169.71611929 174.1222697\n",
            " 162.53215454 173.75973622 172.94995941 170.09545338 170.72752757\n",
            " 169.39797242 169.64603836 172.69766184 168.00885631 173.44138962\n",
            " 174.24951752 173.22508998 164.63687709 176.87673349 175.08559548\n",
            " 175.5782535  174.79614206 168.12673346 176.40643605 174.96571188\n",
            " 173.73348041 168.62643412 174.01963728 165.83745321 169.99300756\n",
            " 174.50061574 162.41525563 165.74508411 171.45656194 173.62796503\n",
            " 171.76213222 175.87481682 174.07104696 175.18077312 164.02210735\n",
            " 166.2009892  174.14781139 176.00961438 177.39277059 177.27063481\n",
            " 163.8641292  173.83821129 164.98348039 171.57958663 171.73187176\n",
            " 172.92214846 162.05862297 160.46706318 168.62643412 169.39797242\n",
            " 161.6927261  166.06576028 168.92535754 170.62959273 162.99028394\n",
            " 168.70176177 172.97771555 163.26922845 163.37927775 162.8202267\n",
            " 164.93448473 175.25173668 177.10612214 172.35407804 169.10901382\n",
            " 175.78422977 170.92137793 167.92971993 176.14313422 167.23848158\n",
            " 177.00231742 176.34107056 166.42352522 169.64603836 173.33365497\n",
            " 172.75411978 170.02723902 167.36295577 172.49825778 169.57560702\n",
            " 164.88531806 172.26685647 168.00885631 175.34580206 176.12096862\n",
            " 169.0358384  176.96058038 160.93112238 173.08819641 173.54830655\n",
            " 160.0567554  169.92429407 172.94995941 162.87714086 171.45656194\n",
            " 176.60073206 171.61017565 163.21387971 165.83745321 171.20724149\n",
            " 162.47382635 176.31921448 177.29106446 173.38762529 175.64724745\n",
            " 160.73410885 169.50482176 175.55518021 163.32436057 161.31707084\n",
            " 169.50482176 171.70154616 163.8641292  169.82059124 176.03195576\n",
            " 161.18959271 159.9871936  171.70154616 169.21806911 161.38037988\n",
            " 166.94369156 174.22415975 171.26998653 173.83821129 170.36505467\n",
            " 176.44984513 160.73410885 173.33365497 168.35956913 176.89774205\n",
            " 177.00231742 171.67115513 177.37248802 176.165265   165.88341161\n",
            " 173.86427279 175.64724745 165.1777764  165.65210531 175.91989282]\n"
          ],
          "name": "stdout"
        }
      ]
    },
    {
      "cell_type": "code",
      "metadata": {
        "id": "54VZjGwzRspt"
      },
      "source": [
        "\r\n",
        "K_sorting=K[np.argsort(K)]\r\n",
        "Urban_sorting2=GrafikUrban2[np.argsort(K)]"
      ],
      "execution_count": 44,
      "outputs": []
    },
    {
      "cell_type": "code",
      "metadata": {
        "colab": {
          "base_uri": "https://localhost:8080/"
        },
        "id": "KBypQ5tqXhix",
        "outputId": "dfd2b0e9-abdb-4d4d-d4b2-2ce74e657ba1"
      },
      "source": [
        "\r\n",
        "f=700 #MHz\r\n",
        "loc='urban'\r\n",
        "tower=80 #m\r\n",
        "user=1.5 #m\r\n",
        "Dmin=200 #m\r\n",
        "Dmax=700 #m\r\n",
        "N=200 #titik\r\n",
        "R=np.random.randint(Dmin,Dmax,N)\r\n",
        "print(R)"
      ],
      "execution_count": 45,
      "outputs": [
        {
          "output_type": "stream",
          "text": [
            "[252 450 693 278 481 359 665 651 214 674 283 622 288 671 408 351 562 542\n",
            " 493 203 672 607 631 665 601 216 273 605 270 554 624 677 473 461 397 266\n",
            " 573 259 202 203 384 619 508 202 233 316 272 669 442 332 690 524 564 603\n",
            " 630 479 442 547 289 217 644 414 619 568 274 466 582 669 557 634 329 469\n",
            " 415 600 320 392 407 505 494 532 584 635 299 612 264 222 372 569 577 664\n",
            " 336 481 418 438 607 517 479 538 636 263 232 692 633 599 241 264 668 292\n",
            " 372 347 562 451 587 667 282 656 474 479 326 432 693 476 593 304 652 670\n",
            " 384 416 250 355 527 481 667 562 646 296 593 287 354 450 222 406 575 465\n",
            " 426 548 311 229 321 488 409 224 622 435 437 305 625 353 432 629 206 634\n",
            " 363 441 314 599 552 528 585 607 418 487 447 291 221 514 201 632 557 648\n",
            " 573 542 697 401 205 692 666 599 677 478 258 592 401 606 375 540 271 294\n",
            " 435 684]\n"
          ],
          "name": "stdout"
        }
      ]
    },
    {
      "cell_type": "code",
      "metadata": {
        "colab": {
          "base_uri": "https://localhost:8080/"
        },
        "id": "J9kyn6vtXhp7",
        "outputId": "6d0071fc-75d9-4f2a-83c0-462664c95e5f"
      },
      "source": [
        "print (\"CHRISTY THESSA NAULI 1101184506\")\r\n",
        "GrafikUrban3=cos(f,loc,tower,user,R)\r\n",
        "print(GrafikUrban3)"
      ],
      "execution_count": 56,
      "outputs": [
        {
          "output_type": "stream",
          "text": [
            "CHRISTY THESSA NAULI 1101184506\n",
            "[172.89618665 181.06364771 187.14583739 174.27934286 182.00206845\n",
            " 177.88121175 186.56487928 186.26516079 170.59374784 186.75424156\n",
            " 174.53044108 185.62325729 174.77714157 186.69140322 179.6834724\n",
            " 177.56376198 184.19437411 183.68394734 182.34918016 169.85041658\n",
            " 186.7123805  185.2793939  185.82561694 186.56487928 185.13946324\n",
            " 170.72478356 174.02368724 185.23290462 173.86803663 183.99241742\n",
            " 185.668478   186.81680082 181.76581574 181.40383683 179.29848294\n",
            " 173.65779037 184.46741986 173.28213511 169.78085477 169.85041658\n",
            " 178.82949958 185.55515287 182.77137672 169.78085477 171.79195756\n",
            " 176.0840871  173.97199457 186.64935472 180.81097299 176.77984519\n",
            " 187.08472564 183.20819429 184.24441408 185.18626141 185.80327556\n",
            " 181.94337571 180.81097299 183.81329845 174.82596739 170.78984712\n",
            " 186.11287566 179.88911456 185.55515287 184.34396388 174.07519091\n",
            " 181.5557934  184.68695008 186.64935472 184.0684909  185.89242926\n",
            " 176.65198134 181.64618668 179.92309826 185.11600572 176.26127482\n",
            " 179.11994775 179.64890493 182.68794368 182.37772371 183.42162621\n",
            " 184.73527342 185.91462979 175.30513732 185.39495023 173.55147864\n",
            " 171.11073201 178.38227987 184.36874179 184.56541147 186.54368103\n",
            " 176.94854466 182.00206845 180.02456019 180.68291541 185.2793939\n",
            " 183.01875116 181.94337571 183.57960436 185.9367954  173.49802037\n",
            " 171.7313715  187.12549625 185.87019368 185.09250907 172.26748753\n",
            " 173.55147864 186.62828331 174.97143758 178.38227987 177.40231336\n",
            " 184.19437411 181.09491573 184.807449   186.60718033 174.48057824\n",
            " 186.37293666 181.79556493 181.94337571 176.5229462  180.48861939\n",
            " 187.14583739 181.85487549 184.95070011 175.53874529 186.28678204\n",
            " 186.67039466 178.82949958 179.95700017 172.78394512 177.72338111\n",
            " 183.2886107  182.00206845 186.60718033 184.19437411 186.15655395\n",
            " 175.16309002 184.95070011 174.72814591 177.68364557 181.06364771\n",
            " 171.11073201 179.61425242 184.51650088 181.52553294 180.29160587\n",
            " 183.83902675 175.85942145 171.54803393 176.30522567 182.20558832\n",
            " 179.71795525 171.23706683 185.62325729 180.5861024  180.65071828\n",
            " 175.58500555 185.69103403 177.64379763 180.48861939 185.78089869\n",
            " 170.05706436 185.89242926 178.03729354 180.77906757 175.99465037\n",
            " 185.09250907 183.94147257 183.31531448 184.75937306 185.2793939\n",
            " 180.02456019 182.17669346 180.96942503 174.92311425 171.04713715\n",
            " 182.93677476 169.71094774 185.84792294 184.0684909  186.20009722\n",
            " 184.46741986 183.68394734 187.22690949 179.43969953 169.98851806\n",
            " 187.12549625 186.58604568 185.09250907 186.81680082 181.91393737\n",
            " 173.22764283 184.92692586 179.43969953 185.25616844 178.49542295\n",
            " 183.63187246 173.9201115  175.06758974 180.5861024  186.96170094]\n"
          ],
          "name": "stdout"
        }
      ]
    },
    {
      "cell_type": "code",
      "metadata": {
        "id": "mwVNNJ8JXmFZ"
      },
      "source": [
        "\r\n",
        "R_sorting=R[np.argsort(R)]\r\n",
        "Urban_sorting3=GrafikUrban3[np.argsort(R)]"
      ],
      "execution_count": 47,
      "outputs": []
    },
    {
      "cell_type": "code",
      "metadata": {
        "id": "AekRjMIjXmIv",
        "colab": {
          "base_uri": "https://localhost:8080/",
          "height": 312
        },
        "outputId": "75192ab2-06af-4e4d-8879-9f36961fde57"
      },
      "source": [
        "print (\"CHRISTY THESSA NAULI 1101184506\")\r\n",
        "plt.figure()\r\n",
        "plt.plot(P_sorting,Urban_sorting1,'y', label='1800 Mhz')\r\n",
        "plt.plot(K_sorting,Urban_sorting2,'b', label='900 Mhz')\r\n",
        "plt.plot(R_sorting,Urban_sorting3,'r', label='700 Mhz')\r\n",
        "plt.legend()\r\n",
        "plt.title('Bentuk Urban (contoh gambar)')\r\n",
        "plt.xlabel('Jarak (m)')\r\n",
        "plt.ylabel('Path Loss (dB)')\r\n",
        "plt.show()"
      ],
      "execution_count": 59,
      "outputs": [
        {
          "output_type": "stream",
          "text": [
            "CHRISTY THESSA NAULI 1101184506\n"
          ],
          "name": "stdout"
        },
        {
          "output_type": "display_data",
          "data": {
            "image/png": "[encoded data removed]",
            "text/plain": [
              "<Figure size 432x288 with 1 Axes>"
            ]
          },
          "metadata": {
            "tags": [],
            "needs_background": "light"
          }
        }
      ]
    },
    {
      "cell_type": "code",
      "metadata": {
        "id": "RA-_Olw46ZeW"
      },
      "source": [
        ""
      ],
      "execution_count": 48,
      "outputs": []
    }
  ]
}